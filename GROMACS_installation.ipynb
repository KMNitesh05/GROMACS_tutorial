{
 "cells": [
  {
   "cell_type": "markdown",
   "id": "4ce5d10a",
   "metadata": {},
   "source": [
    "## Agenda: To install GROMACS and Packmol using CONDA"
   ]
  },
  {
   "cell_type": "markdown",
   "id": "8b2075f1",
   "metadata": {},
   "source": [
    "## Use the following commands to install these packages "
   ]
  },
  {
   "cell_type": "markdown",
   "id": "460f5e99",
   "metadata": {},
   "source": [
    "## For GROMACS installation use this command "
   ]
  },
  {
   "cell_type": "code",
   "execution_count": null,
   "id": "0b7fe40d",
   "metadata": {},
   "outputs": [],
   "source": [
    "!conda install -c bioconda gromacs"
   ]
  },
  {
   "cell_type": "code",
   "execution_count": null,
   "id": "d548d8bc",
   "metadata": {},
   "outputs": [],
   "source": [
    "## For GROMACS+PLUMED installation use this command"
   ]
  },
  {
   "cell_type": "code",
   "execution_count": null,
   "id": "a7c9b583",
   "metadata": {},
   "outputs": [],
   "source": [
    "!conda install -c plumed/label/lugano -c conda-forge gromacs"
   ]
  },
  {
   "cell_type": "markdown",
   "id": "748116c4",
   "metadata": {},
   "source": [
    "## For Packmol use this command "
   ]
  },
  {
   "cell_type": "code",
   "execution_count": null,
   "id": "ec504356",
   "metadata": {},
   "outputs": [],
   "source": [
    "!conda install -c conda-forge packmol"
   ]
  },
  {
   "cell_type": "code",
   "execution_count": null,
   "id": "d1efad73",
   "metadata": {},
   "outputs": [],
   "source": []
  },
  {
   "cell_type": "code",
   "execution_count": null,
   "id": "65d3e221",
   "metadata": {},
   "outputs": [],
   "source": []
  }
 ],
 "metadata": {
  "kernelspec": {
   "display_name": "Python 3 (ipykernel)",
   "language": "python",
   "name": "python3"
  },
  "language_info": {
   "codemirror_mode": {
    "name": "ipython",
    "version": 3
   },
   "file_extension": ".py",
   "mimetype": "text/x-python",
   "name": "python",
   "nbconvert_exporter": "python",
   "pygments_lexer": "ipython3",
   "version": "3.9.15"
  }
 },
 "nbformat": 4,
 "nbformat_minor": 5
}
